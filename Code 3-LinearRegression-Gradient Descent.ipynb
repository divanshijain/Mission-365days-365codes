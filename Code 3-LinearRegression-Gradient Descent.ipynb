{
 "cells": [
  {
   "cell_type": "markdown",
   "metadata": {},
   "source": [
    "# Linear Regression  : Gradient Descent Implementation from Scratch for One Feature"
   ]
  },
  {
   "cell_type": "code",
   "execution_count": 51,
   "metadata": {
    "collapsed": true
   },
   "outputs": [],
   "source": [
    "import numpy as np\n",
    "import matplotlib.pyplot as plt\n",
    "from sklearn.model_selection import train_test_split"
   ]
  },
  {
   "cell_type": "code",
   "execution_count": 54,
   "metadata": {
    "collapsed": true
   },
   "outputs": [],
   "source": [
    "points = np.loadtxt(open(\"data.csv\", \"rb\"), delimiter=\",\")\n",
    "X_train, Y_train, X_test, Y_test =train_test_split(points[:,0],points[:,1],test_size=0.6)"
   ]
  },
  {
   "cell_type": "code",
   "execution_count": 38,
   "metadata": {
    "collapsed": true
   },
   "outputs": [],
   "source": [
    "def step_gradient(points, learning_rate, b_current, m_current):\n",
    "    m_slope = 0\n",
    "    b_slope = 0\n",
    "    N = len(points)\n",
    "    for i in range(N):\n",
    "        x = points[i, 0]\n",
    "        y = points[i, 1]\n",
    "        b_slope += -(2/N) * (y - m_current* x - b_current)\n",
    "        m_slope += -(2/N) * (y - m_current* x - b_current)*x\n",
    "    new_m = m_current - learning_rate * m_slope\n",
    "    new_b = b_current - learning_rate* b_slope\n",
    "    return (new_b, new_m)\n",
    "\n",
    "def cost_gd(b, m , points):\n",
    "    total_cost = 0\n",
    "    for i in range(len(points)):\n",
    "        x = points[i,0]\n",
    "        y = points[i, 1]\n",
    "        total_cost += (y - (m*x + b))**2\n",
    "        \n",
    "    return total_cost/len(points)\n",
    "\n",
    "def gd_runner(points, learning_rate = 0.001, num_iterations = 1000):\n",
    "    b = 0\n",
    "    m = 0\n",
    "    xs = points[:, 0]\n",
    "    ys = points[:, 1]\n",
    "    cost=np.zeros(num_iterations)\n",
    "    itr=np.zeros(num_iterations)\n",
    "    print (\"Start Cost: \", cost_gd(b, m , points))\n",
    "    for i in range(num_iterations):\n",
    "        b, m = step_gradient(points, learning_rate, b, m)\n",
    "        itr[i]=i\n",
    "        cost[i]= cost_gd(b,m,points)\n",
    "#         if(i==0):\n",
    "#             x_p=xs[i]\n",
    "#             y_p = m* x_p+b\n",
    "            \n",
    "#         if(i%10==0):\n",
    "#             x_n=xs[94]\n",
    "#             y_n= m*x_n+b\n",
    "#             x=[x_p,x_n]\n",
    "#             y=[y_p,y_n]\n",
    "#             plt.plot(x,y)\n",
    "#             print(\"m :\",m,\" b:\",b)\n",
    "#             plt.scatter(xs,ys)\n",
    "#             plt.show()\n",
    "         \n",
    "   # print(xs)\n",
    "   # print(ys)\n",
    "    \n",
    "    \n",
    "    print(\"Final Cost: \", cost_gd(b, m , points))\n",
    "    plt.plot(itr,cost)\n",
    "    print(\"Learning Rate:\",learning_rate)\n",
    "    plt.show()\n",
    "    return (b, m)\n",
    "\n",
    "def run():\n",
    "    points = np.loadtxt(open(\"data.csv\", \"rb\"), delimiter=\",\")\n",
    "    learning_rate = 0.01\n",
    "    num_iterations = 100\n",
    "    while(learning_rate>=0.00001):\n",
    "        final_b, final_m = gd_runner(points, learning_rate, num_iterations)\n",
    "        learning_rate =learning_rate*0.5\n",
    "    print(\"Final-Intercept :\",final_b,\"Final-Slope :\", final_m)\n",
    "    return final_b, final_m"
   ]
  },
  {
   "cell_type": "markdown",
   "metadata": {},
   "source": [
    "# Effect of Learning Rate on Cost "
   ]
  },
  {
   "cell_type": "code",
   "execution_count": 39,
   "metadata": {},
   "outputs": [
    {
     "name": "stdout",
     "output_type": "stream",
     "text": [
      "Start Cost:  5565.107834483211\n"
     ]
    },
    {
     "name": "stderr",
     "output_type": "stream",
     "text": [
      "C:\\Users\\Divanshi\\Anaconda3\\lib\\site-packages\\ipykernel_launcher.py:19: RuntimeWarning: overflow encountered in double_scalars\n"
     ]
    },
    {
     "name": "stdout",
     "output_type": "stream",
     "text": [
      "Final Cost:  inf\n",
      "Learning Rate: 0.01\n"
     ]
    },
    {
     "data": {
      "image/png": "[encoded data removed]",
      "text/plain": [
       "<matplotlib.figure.Figure at 0x25b5eb107b8>"
      ]
     },
     "metadata": {},
     "output_type": "display_data"
    },
    {
     "name": "stdout",
     "output_type": "stream",
     "text": [
      "Start Cost:  5565.107834483211\n",
      "Final Cost:  3.062298996909755e+279\n",
      "Learning Rate: 0.005\n"
     ]
    },
    {
     "data": {
      "image/png": "[encoded data removed]",
      "text/plain": [
       "<matplotlib.figure.Figure at 0x25b5ecc5cf8>"
      ]
     },
     "metadata": {},
     "output_type": "display_data"
    },
    {
     "name": "stdout",
     "output_type": "stream",
     "text": [
      "Start Cost:  5565.107834483211\n",
      "Final Cost:  3.7206153478871774e+215\n",
      "Learning Rate: 0.0025\n"
     ]
    },
    {
     "data": {
      "image/png": "[encoded data removed]",
      "text/plain": [
       "<matplotlib.figure.Figure at 0x25b5fd0e550>"
      ]
     },
     "metadata": {},
     "output_type": "display_data"
    },
    {
     "name": "stdout",
     "output_type": "stream",
     "text": [
      "Start Cost:  5565.107834483211\n",
      "Final Cost:  2.71488646021611e+147\n",
      "Learning Rate: 0.00125\n"
     ]
    },
    {
     "data": {
      "image/png": "[encoded data removed]",
      "text/plain": [
       "<matplotlib.figure.Figure at 0x25b5fdaff98>"
      ]
     },
     "metadata": {},
     "output_type": "display_data"
    },
    {
     "name": "stdout",
     "output_type": "stream",
     "text": [
      "Start Cost:  5565.107834483211\n",
      "Final Cost:  6.2335699452858385e+68\n",
      "Learning Rate: 0.000625\n"
     ]
    },
    {
     "data": {
      "image/png": "[encoded data removed]",
      "text/plain": [
       "<matplotlib.figure.Figure at 0x25b5eb05b38>"
      ]
     },
     "metadata": {},
     "output_type": "display_data"
    },
    {
     "name": "stdout",
     "output_type": "stream",
     "text": [
      "Start Cost:  5565.107834483211\n",
      "Final Cost:  112.6394032338809\n",
      "Learning Rate: 0.0003125\n"
     ]
    },
    {
     "data": {
      "image/png": "[encoded data removed]",
      "text/plain": [
       "<matplotlib.figure.Figure at 0x25b5fe62ef0>"
      ]
     },
     "metadata": {},
     "output_type": "display_data"
    },
    {
     "name": "stdout",
     "output_type": "stream",
     "text": [
      "Start Cost:  5565.107834483211\n",
      "Final Cost:  112.64502836260384\n",
      "Learning Rate: 0.00015625\n"
     ]
    },
    {
     "data": {
      "image/png": "[encoded data removed]",
      "text/plain": [
       "<matplotlib.figure.Figure at 0x25b5ebc7fd0>"
      ]
     },
     "metadata": {},
     "output_type": "display_data"
    },
    {
     "name": "stdout",
     "output_type": "stream",
     "text": [
      "Start Cost:  5565.107834483211\n",
      "Final Cost:  112.64784588146365\n",
      "Learning Rate: 7.8125e-05\n"
     ]
    },
    {
     "data": {
      "image/png": "[encoded data removed]",
      "text/plain": [
       "<matplotlib.figure.Figure at 0x25b5fe29438>"
      ]
     },
     "metadata": {},
     "output_type": "display_data"
    },
    {
     "name": "stdout",
     "output_type": "stream",
     "text": [
      "Start Cost:  5565.107834483211\n",
      "Final Cost:  112.64925588120629\n",
      "Learning Rate: 3.90625e-05\n"
     ]
    },
    {
     "data": {
      "image/png": "[encoded data removed]",
      "text/plain": [
       "<matplotlib.figure.Figure at 0x25b5ec7d518>"
      ]
     },
     "metadata": {},
     "output_type": "display_data"
    },
    {
     "name": "stdout",
     "output_type": "stream",
     "text": [
      "Start Cost:  5565.107834483211\n",
      "Final Cost:  112.64996813135473\n",
      "Learning Rate: 1.953125e-05\n"
     ]
    },
    {
     "data": {
      "image/png": "[encoded data removed]",
      "text/plain": [
       "<matplotlib.figure.Figure at 0x25b5fe29400>"
      ]
     },
     "metadata": {},
     "output_type": "display_data"
    },
    {
     "name": "stdout",
     "output_type": "stream",
     "text": [
      "Final-Intercept : 0.0302403409235568 Final-Slope : 1.4788449574844786\n"
     ]
    }
   ],
   "source": [
    "b,m=run()"
   ]
  },
  {
   "cell_type": "code",
   "execution_count": 40,
   "metadata": {},
   "outputs": [
    {
     "data": {
      "text/plain": [
       "array([[ 32.50234527,  31.70700585],\n",
       "       [ 53.42680403,  68.77759598],\n",
       "       [ 61.53035803,  62.5623823 ],\n",
       "       [ 47.47563963,  71.54663223],\n",
       "       [ 59.81320787,  87.23092513],\n",
       "       [ 55.14218841,  78.21151827],\n",
       "       [ 52.21179669,  79.64197305],\n",
       "       [ 39.29956669,  59.17148932],\n",
       "       [ 48.10504169,  75.3312423 ],\n",
       "       [ 52.55001444,  71.30087989],\n",
       "       [ 45.41973014,  55.16567715],\n",
       "       [ 54.35163488,  82.47884676],\n",
       "       [ 44.1640495 ,  62.00892325],\n",
       "       [ 58.16847072,  75.39287043],\n",
       "       [ 56.72720806,  81.43619216],\n",
       "       [ 48.95588857,  60.72360244],\n",
       "       [ 44.68719623,  82.89250373],\n",
       "       [ 60.29732685,  97.37989686],\n",
       "       [ 45.61864377,  48.84715332],\n",
       "       [ 38.81681754,  56.87721319],\n",
       "       [ 66.18981661,  83.87856466],\n",
       "       [ 65.41605175, 118.5912173 ],\n",
       "       [ 47.48120861,  57.25181946],\n",
       "       [ 41.57564262,  51.39174408],\n",
       "       [ 51.84518691,  75.38065167],\n",
       "       [ 59.37082201,  74.76556403],\n",
       "       [ 57.31000344,  95.45505292],\n",
       "       [ 63.61556125,  95.22936602],\n",
       "       [ 46.73761941,  79.05240617],\n",
       "       [ 50.55676015,  83.43207142],\n",
       "       [ 52.22399609,  63.35879032],\n",
       "       [ 35.56783005,  41.4128853 ],\n",
       "       [ 42.43647694,  76.61734128],\n",
       "       [ 58.16454011,  96.76956643],\n",
       "       [ 57.50444762,  74.08413012],\n",
       "       [ 45.44053073,  66.58814441],\n",
       "       [ 61.89622268,  77.76848242],\n",
       "       [ 33.09383174,  50.71958891],\n",
       "       [ 36.43600951,  62.12457082],\n",
       "       [ 37.67565486,  60.81024665],\n",
       "       [ 44.55560838,  52.68298337],\n",
       "       [ 43.31828263,  58.56982472],\n",
       "       [ 50.07314563,  82.90598149],\n",
       "       [ 43.87061265,  61.4247098 ],\n",
       "       [ 62.99748075, 115.2441528 ],\n",
       "       [ 32.66904376,  45.57058882],\n",
       "       [ 40.16689901,  54.0840548 ],\n",
       "       [ 53.57507753,  87.99445276],\n",
       "       [ 33.86421497,  52.72549438],\n",
       "       [ 64.70713867,  93.57611869],\n",
       "       [ 38.11982403,  80.16627545],\n",
       "       [ 44.50253806,  65.10171157],\n",
       "       [ 40.59953838,  65.56230126],\n",
       "       [ 41.72067636,  65.28088692],\n",
       "       [ 51.08863468,  73.43464155],\n",
       "       [ 55.0780959 ,  71.13972786],\n",
       "       [ 41.37772653,  79.10282968],\n",
       "       [ 62.49469743,  86.52053844],\n",
       "       [ 49.20388754,  84.74269781],\n",
       "       [ 41.10268519,  59.35885025],\n",
       "       [ 41.18201611,  61.68403752],\n",
       "       [ 50.18638949,  69.84760416],\n",
       "       [ 52.37844622,  86.09829121],\n",
       "       [ 50.13548549,  59.10883927],\n",
       "       [ 33.64470601,  69.89968164],\n",
       "       [ 39.55790122,  44.86249071],\n",
       "       [ 56.13038882,  85.49806778],\n",
       "       [ 57.36205213,  95.53668685],\n",
       "       [ 60.26921439,  70.25193442],\n",
       "       [ 35.67809389,  52.72173496],\n",
       "       [ 31.588117  ,  50.39267014],\n",
       "       [ 53.66093226,  63.64239878],\n",
       "       [ 46.68222865,  72.24725107],\n",
       "       [ 43.10782022,  57.81251298],\n",
       "       [ 70.34607562, 104.25710159],\n",
       "       [ 44.49285588,  86.64202032],\n",
       "       [ 57.5045333 ,  91.486778  ],\n",
       "       [ 36.93007661,  55.23166089],\n",
       "       [ 55.80573336,  79.55043668],\n",
       "       [ 38.95476907,  44.84712424],\n",
       "       [ 56.9012147 ,  80.20752314],\n",
       "       [ 56.86890066,  83.14274979],\n",
       "       [ 34.3331247 ,  55.72348926],\n",
       "       [ 59.04974121,  77.63418251],\n",
       "       [ 57.78822399,  99.05141484],\n",
       "       [ 54.28232871,  79.12064627],\n",
       "       [ 51.0887199 ,  69.58889785],\n",
       "       [ 50.28283635,  69.51050331],\n",
       "       [ 44.21174175,  73.68756432],\n",
       "       [ 38.00548801,  61.36690454],\n",
       "       [ 32.94047994,  67.17065577],\n",
       "       [ 53.69163957,  85.66820315],\n",
       "       [ 68.76573427, 114.85387123],\n",
       "       [ 46.2309665 ,  90.12357207],\n",
       "       [ 68.31936082,  97.91982104],\n",
       "       [ 50.03017434,  81.53699078],\n",
       "       [ 49.23976534,  72.11183247],\n",
       "       [ 50.03957594,  85.23200734],\n",
       "       [ 48.14985889,  66.22495789],\n",
       "       [ 25.12848465,  53.45439421]])"
      ]
     },
     "execution_count": 40,
     "metadata": {},
     "output_type": "execute_result"
    }
   ],
   "source": [
    "points = np.loadtxt(open(\"data.csv\", \"rb\"), delimiter=\",\")\n",
    "points"
   ]
  },
  {
   "cell_type": "code",
   "execution_count": 41,
   "metadata": {},
   "outputs": [
    {
     "data": {
      "image/png": "[encoded data removed]",
      "text/plain": [
       "<matplotlib.figure.Figure at 0x25b5fd63e10>"
      ]
     },
     "metadata": {},
     "output_type": "display_data"
    }
   ],
   "source": [
    "X=points[:,0]\n",
    "Y=points[:,1]\n",
    "plt.scatter(X,Y)\n",
    "plt.show()"
   ]
  },
  {
   "cell_type": "code",
   "execution_count": 50,
   "metadata": {},
   "outputs": [
    {
     "data": {
      "image/png": "[encoded data removed]",
      "text/plain": [
       "<matplotlib.figure.Figure at 0x25b5fcd8c50>"
      ]
     },
     "metadata": {},
     "output_type": "display_data"
    }
   ],
   "source": [
    "x1= 30\n",
    "x2= 70\n",
    "y1 = m * x1 + b\n",
    "y2 = m * x2 + b\n",
    "X_pt=[[x1],[x2]]\n",
    "Y_pt=[[y1],[y2]]\n",
    "plt.scatter(X,Y)\n",
    "plt.plot(X_pt,Y_pt,'r-')\n",
    "plt.show()"
   ]
  },
  {
   "cell_type": "markdown",
   "metadata": {},
   "source": [
    "# Using In-Built Linear Regression()"
   ]
  },
  {
   "cell_type": "code",
   "execution_count": 81,
   "metadata": {},
   "outputs": [
    {
     "data": {
      "text/plain": [
       "(100,)"
      ]
     },
     "execution_count": 81,
     "metadata": {},
     "output_type": "execute_result"
    }
   ],
   "source": [
    "from sklearn.linear_model import LinearRegression\n",
    "X.shape"
   ]
  },
  {
   "cell_type": "code",
   "execution_count": 87,
   "metadata": {},
   "outputs": [
    {
     "data": {
      "text/plain": [
       "array([ 31.70700585,  68.77759598,  62.5623823 ,  71.54663223,\n",
       "        87.23092513,  78.21151827,  79.64197305,  59.17148932,\n",
       "        75.3312423 ,  71.30087989,  55.16567715,  82.47884676,\n",
       "        62.00892325,  75.39287043,  81.43619216,  60.72360244,\n",
       "        82.89250373,  97.37989686,  48.84715332,  56.87721319,\n",
       "        83.87856466, 118.5912173 ,  57.25181946,  51.39174408,\n",
       "        75.38065167,  74.76556403,  95.45505292,  95.22936602,\n",
       "        79.05240617,  83.43207142,  63.35879032,  41.4128853 ,\n",
       "        76.61734128,  96.76956643,  74.08413012,  66.58814441,\n",
       "        77.76848242,  50.71958891,  62.12457082,  60.81024665,\n",
       "        52.68298337,  58.56982472,  82.90598149,  61.4247098 ,\n",
       "       115.2441528 ,  45.57058882,  54.0840548 ,  87.99445276,\n",
       "        52.72549438,  93.57611869,  80.16627545,  65.10171157,\n",
       "        65.56230126,  65.28088692,  73.43464155,  71.13972786,\n",
       "        79.10282968,  86.52053844,  84.74269781,  59.35885025,\n",
       "        61.68403752,  69.84760416,  86.09829121,  59.10883927,\n",
       "        69.89968164,  44.86249071,  85.49806778,  95.53668685,\n",
       "        70.25193442,  52.72173496,  50.39267014,  63.64239878,\n",
       "        72.24725107,  57.81251298, 104.25710159,  86.64202032,\n",
       "        91.486778  ,  55.23166089,  79.55043668,  44.84712424,\n",
       "        80.20752314,  83.14274979,  55.72348926,  77.63418251,\n",
       "        99.05141484,  79.12064627,  69.58889785,  69.51050331,\n",
       "        73.68756432,  61.36690454,  67.17065577,  85.66820315,\n",
       "       114.85387123,  90.12357207,  97.91982104,  81.53699078,\n",
       "        72.11183247,  85.23200734,  66.22495789,  53.45439421])"
      ]
     },
     "execution_count": 87,
     "metadata": {},
     "output_type": "execute_result"
    }
   ],
   "source": [
    "xs = X.reshape((100,1))\n",
    "ys= Y\n",
    "Y"
   ]
  },
  {
   "cell_type": "code",
   "execution_count": 99,
   "metadata": {},
   "outputs": [
    {
     "data": {
      "text/plain": [
       "1.3224310227553597"
      ]
     },
     "execution_count": 99,
     "metadata": {},
     "output_type": "execute_result"
    }
   ],
   "source": [
    "clf=LinearRegression()\n",
    "clf.fit(xs,ys)\n",
    "m1=clf.coef_[0]\n",
    "m1"
   ]
  },
  {
   "cell_type": "code",
   "execution_count": 101,
   "metadata": {},
   "outputs": [
    {
     "data": {
      "text/plain": [
       "7.991020982270399"
      ]
     },
     "execution_count": 101,
     "metadata": {},
     "output_type": "execute_result"
    }
   ],
   "source": [
    "b1=clf.intercept_\n",
    "b1"
   ]
  },
  {
   "cell_type": "code",
   "execution_count": 103,
   "metadata": {},
   "outputs": [
    {
     "data": {
      "image/png": "[encoded data removed]",
      "text/plain": [
       "<matplotlib.figure.Figure at 0x25b60d56160>"
      ]
     },
     "metadata": {},
     "output_type": "display_data"
    }
   ],
   "source": [
    "x1= 30\n",
    "x2= 70\n",
    "y1 = x1 * m1 + b1\n",
    "y2 = x2 * m1  + b1\n",
    "X1_pt=[[x1],[x2]]\n",
    "Y1_pt=[[y1],[y2]]\n",
    "plt.scatter(X,Y)\n",
    "plt.plot(X1_pt,Y1_pt,'r-')\n",
    "plt.show()"
   ]
  },
  {
   "cell_type": "code",
   "execution_count": null,
   "metadata": {
    "collapsed": true
   },
   "outputs": [],
   "source": []
  }
 ],
 "metadata": {
  "kernelspec": {
   "display_name": "Python 3",
   "language": "python",
   "name": "python3"
  },
  "language_info": {
   "codemirror_mode": {
    "name": "ipython",
    "version": 3
   },
   "file_extension": ".py",
   "mimetype": "text/x-python",
   "name": "python",
   "nbconvert_exporter": "python",
   "pygments_lexer": "ipython3",
   "version": "3.6.3"
  }
 },
 "nbformat": 4,
 "nbformat_minor": 2
}
